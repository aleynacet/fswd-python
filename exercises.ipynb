{
 "cells": [
  {
   "cell_type": "code",
   "execution_count": 12,
   "metadata": {},
   "outputs": [
    {
     "name": "stdout",
     "output_type": "stream",
     "text": [
      "True\n",
      "True\n"
     ]
    }
   ],
   "source": [
    "addition = 21 + 21\n",
    "substraction = 64 - 22\n",
    "multiplication = 6 * 7\n",
    "division = 84 / 2\n",
    "\n",
    "values_are_42 = (addition == 42) and (substraction == 64 - 22) and (multiplication == 6 * 7) and (division == 84 / 2)\n",
    "print (values_are_42)\n",
    "\n",
    "values_part_two = (addition == 42) == (substraction == 64 - 22) == (multiplication == 6 * 7) == (division == 84 / 2)\n",
    "print (values_part_two)"
   ]
  }
 ],
 "metadata": {
  "kernelspec": {
   "display_name": "venv",
   "language": "python",
   "name": "python3"
  },
  "language_info": {
   "codemirror_mode": {
    "name": "ipython",
    "version": 3
   },
   "file_extension": ".py",
   "mimetype": "text/x-python",
   "name": "python",
   "nbconvert_exporter": "python",
   "pygments_lexer": "ipython3",
   "version": "3.12.2"
  }
 },
 "nbformat": 4,
 "nbformat_minor": 2
}
